{
 "cells": [
  {
   "cell_type": "code",
   "execution_count": null,
   "metadata": {},
   "outputs": [],
   "source": [
    "from collections import Counter\n",
    "\n",
    "def solution(id_list, report, k):\n",
    "\n",
    "    report = list(set(report))\n",
    "    give = [i.split()[0] for i in report]\n",
    "    receive = [i.split()[1] for i in report]\n",
    "    pairs = list(zip(give, receive))\n",
    "    result = [0 for _ in range(len(id_list))]\n",
    "  \n",
    "    counter = Counter(receive)\n",
    "    \n",
    "    for i in range(len(id_list)):\n",
    "        for pair in pairs:\n",
    "            if id_list[i] == pair[0] and counter[pair[1]] >= k:\n",
    "\n",
    "                result[i] += 1\n",
    "\n",
    "    return result"
   ]
  },
  {
   "cell_type": "markdown",
   "metadata": {},
   "source": [
    "# 매우 유용한 기술\n",
    "- 1. answer = [0] * len(id_list)    \n",
    "- 2. reports = {x : 0 for x in id_list}"
   ]
  },
  {
   "cell_type": "code",
   "execution_count": null,
   "metadata": {},
   "outputs": [],
   "source": []
  }
 ],
 "metadata": {
  "kernelspec": {
   "display_name": "machinelearning",
   "language": "python",
   "name": "machinelearning"
  },
  "language_info": {
   "codemirror_mode": {
    "name": "ipython",
    "version": 3
   },
   "file_extension": ".py",
   "mimetype": "text/x-python",
   "name": "python",
   "nbconvert_exporter": "python",
   "pygments_lexer": "ipython3",
   "version": "3.7.7"
  },
  "toc": {
   "base_numbering": 1,
   "nav_menu": {},
   "number_sections": true,
   "sideBar": true,
   "skip_h1_title": false,
   "title_cell": "Table of Contents",
   "title_sidebar": "Contents",
   "toc_cell": false,
   "toc_position": {},
   "toc_section_display": true,
   "toc_window_display": false
  }
 },
 "nbformat": 4,
 "nbformat_minor": 4
}
