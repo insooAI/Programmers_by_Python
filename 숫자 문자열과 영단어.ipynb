{
 "cells": [
  {
   "cell_type": "markdown",
   "metadata": {},
   "source": [
    "# 풀이 1"
   ]
  },
  {
   "cell_type": "code",
   "execution_count": 7,
   "metadata": {
    "ExecuteTime": {
     "end_time": "2022-02-28T01:18:18.109479Z",
     "start_time": "2022-02-28T01:18:18.079447Z"
    }
   },
   "outputs": [
    {
     "name": "stdout",
     "output_type": "stream",
     "text": [
      "[<re.Match object; span=(0, 1), match='2'>, <re.Match object; span=(1, 6), match='three'>, <re.Match object; span=(6, 7), match='4'>, <re.Match object; span=(7, 8), match='5'>, <re.Match object; span=(8, 11), match='six'>, <re.Match object; span=(11, 16), match='seven'>]\n",
      "0 1\n",
      "1 6\n",
      "6 7\n",
      "7 8\n",
      "8 11\n",
      "11 16\n"
     ]
    },
    {
     "data": {
      "text/plain": [
       "234567"
      ]
     },
     "execution_count": 7,
     "metadata": {},
     "output_type": "execute_result"
    }
   ],
   "source": [
    "import re\n",
    "\n",
    "def solution(s):\n",
    "    \n",
    "    temp = re.compile('zero|one|two|three|four|five|six|seven|eight|nine|\\d')\n",
    "\n",
    "    dic = {'zero':'0', 'one':'1', 'two':'2', 'three':'3', 'four':'4',\n",
    "           'five':'5', 'six':'6', 'seven':'7', 'eight':'8', 'nine':'9'}\n",
    "\n",
    "    match = list(temp.finditer(s))\n",
    "#     print(match)\n",
    "    answer = ''\n",
    "\n",
    "\n",
    "    for i in range(len(match)):\n",
    "        start = match[i].span()[0]\n",
    "        end = match[i].span()[1]\n",
    "#         print(start, end)\n",
    "\n",
    "        if match[i].group() in dic.keys():\n",
    "            answer += dic[s[start:end]]\n",
    "\n",
    "        else:\n",
    "            answer += s[start:end]\n",
    "    \n",
    "    return int(answer)\n",
    "\n",
    "s = \"2three45sixseven\"\n",
    "solution(s)"
   ]
  },
  {
   "cell_type": "markdown",
   "metadata": {
    "ExecuteTime": {
     "end_time": "2022-02-28T01:23:32.709732Z",
     "start_time": "2022-02-28T01:23:32.697758Z"
    }
   },
   "source": [
    "# 풀이 2"
   ]
  },
  {
   "cell_type": "code",
   "execution_count": 17,
   "metadata": {
    "ExecuteTime": {
     "end_time": "2022-02-28T01:27:21.708980Z",
     "start_time": "2022-02-28T01:27:21.690023Z"
    }
   },
   "outputs": [
    {
     "data": {
      "text/plain": [
       "234567"
      ]
     },
     "execution_count": 17,
     "metadata": {},
     "output_type": "execute_result"
    }
   ],
   "source": [
    "numDic = {'zero': '0', 'one': '1', 'two': '2', 'three': '3', 'four': '4', 'five': '5', 'six': '6', 'seven': '7', 'eight': '8', 'nine': '9' }\n",
    "def solution(s):\n",
    "    nList = '' \n",
    "    nStr = ''\n",
    "    for i in list(s):\n",
    "        if ord(i) >= 97 and ord(i) <= 122: # 문자열이 영어 소문자라면\n",
    "            nStr += i # 문자열을 그대로 더해줌\n",
    "            if nStr in numDic.keys(): # 더한 문자열이 숫자에 대응하는 문자가 되면\n",
    "                nList += numDic[nStr] # 문자에 대응하는 value값을 담아주고\n",
    "                nStr = '' # 초기화\n",
    "        else:\n",
    "            try:\n",
    "                nList += i\n",
    "            except:\n",
    "                continue\n",
    "\n",
    "    return int(nList)\n",
    "\n",
    "solution(s)\n"
   ]
  },
  {
   "cell_type": "code",
   "execution_count": null,
   "metadata": {},
   "outputs": [],
   "source": []
  }
 ],
 "metadata": {
  "kernelspec": {
   "display_name": "machinelearning",
   "language": "python",
   "name": "machinelearning"
  },
  "language_info": {
   "codemirror_mode": {
    "name": "ipython",
    "version": 3
   },
   "file_extension": ".py",
   "mimetype": "text/x-python",
   "name": "python",
   "nbconvert_exporter": "python",
   "pygments_lexer": "ipython3",
   "version": "3.7.7"
  },
  "toc": {
   "base_numbering": 1,
   "nav_menu": {},
   "number_sections": true,
   "sideBar": true,
   "skip_h1_title": false,
   "title_cell": "Table of Contents",
   "title_sidebar": "Contents",
   "toc_cell": false,
   "toc_position": {},
   "toc_section_display": true,
   "toc_window_display": false
  }
 },
 "nbformat": 4,
 "nbformat_minor": 4
}
