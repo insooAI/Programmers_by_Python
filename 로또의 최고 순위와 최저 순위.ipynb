{
 "cells": [
  {
   "cell_type": "markdown",
   "metadata": {},
   "source": [
    "# 풀이 1"
   ]
  },
  {
   "cell_type": "code",
   "execution_count": 33,
   "metadata": {
    "ExecuteTime": {
     "end_time": "2022-03-03T09:11:02.455588Z",
     "start_time": "2022-03-03T09:11:02.440632Z"
    }
   },
   "outputs": [],
   "source": [
    "def solution(lottos, win_nums):\n",
    "    \n",
    "    match_number = []\n",
    "    unknown_number = []\n",
    "    \n",
    "    rank = {6:1,\n",
    "            5:2,\n",
    "            4:3,\n",
    "            3:4,\n",
    "            2:5,\n",
    "            1:6,\n",
    "            0:6}\n",
    "    \n",
    "\n",
    "    for number in lottos:\n",
    "        if number in win_nums:\n",
    "            match_number.append(number)\n",
    "            \n",
    "        if number == 0:\n",
    "            unknown_number.append(number)\n",
    "\n",
    "    max_match = len(match_number) + len(unknown_number)\n",
    "    min_match = len(match_number)\n",
    "    \n",
    "    return [rank[max_match], rank[min_match]]"
   ]
  },
  {
   "cell_type": "markdown",
   "metadata": {},
   "source": [
    "# 풀이 2\n",
    "- list comprehension 사용"
   ]
  },
  {
   "cell_type": "code",
   "execution_count": 34,
   "metadata": {
    "ExecuteTime": {
     "end_time": "2022-03-03T09:11:02.720879Z",
     "start_time": "2022-03-03T09:11:02.713896Z"
    }
   },
   "outputs": [
    {
     "data": {
      "text/plain": [
       "[3, 5]"
      ]
     },
     "execution_count": 34,
     "metadata": {},
     "output_type": "execute_result"
    }
   ],
   "source": [
    "def solution(lottos, win_nums):\n",
    "\n",
    "    rank = {6:1,\n",
    "            5:2,\n",
    "            4:3,\n",
    "            3:4,\n",
    "            2:5,\n",
    "            1:6,\n",
    "            0:6}    \n",
    "    \n",
    "    match_number = [number for number in lottos if number in win_nums]\n",
    "    unknown_number = [number for number in lottos if number == 0]\n",
    "\n",
    "    return [rank[len(match_number) + len(unknown_number)], rank[len(match_number)]]"
   ]
  },
  {
   "cell_type": "markdown",
   "metadata": {},
   "source": [
    "# 풀이 3\n",
    "- 인기 풀이\n",
    "- count 함수 사용 (유용하다!)"
   ]
  },
  {
   "cell_type": "code",
   "execution_count": null,
   "metadata": {},
   "outputs": [],
   "source": [
    "def solution(lottos, win_nums):\n",
    "\n",
    "    rank = {6:1,\n",
    "            5:2,\n",
    "            4:3,\n",
    "            3:4,\n",
    "            2:5,\n",
    "            1:6,\n",
    "            0:6}    \n",
    "    \n",
    "    match_number = [number for number in lottos if number in win_nums]\n",
    "\n",
    "    return [rank[len(match_number) + lottos.count(0)], rank[len(match_number)]]"
   ]
  },
  {
   "cell_type": "code",
   "execution_count": 36,
   "metadata": {
    "ExecuteTime": {
     "end_time": "2022-03-03T09:30:47.840505Z",
     "start_time": "2022-03-03T09:30:47.828393Z"
    }
   },
   "outputs": [
    {
     "data": {
      "text/plain": [
       "{3, 4}"
      ]
     },
     "execution_count": 36,
     "metadata": {},
     "output_type": "execute_result"
    }
   ],
   "source": [
    "# set를 이용한 교집합 구하기\n",
    "set([0,3,3,4]) & set([3,2,4])"
   ]
  },
  {
   "cell_type": "code",
   "execution_count": null,
   "metadata": {},
   "outputs": [],
   "source": []
  }
 ],
 "metadata": {
  "kernelspec": {
   "display_name": "machinelearning",
   "language": "python",
   "name": "machinelearning"
  },
  "language_info": {
   "codemirror_mode": {
    "name": "ipython",
    "version": 3
   },
   "file_extension": ".py",
   "mimetype": "text/x-python",
   "name": "python",
   "nbconvert_exporter": "python",
   "pygments_lexer": "ipython3",
   "version": "3.7.7"
  },
  "toc": {
   "base_numbering": 1,
   "nav_menu": {},
   "number_sections": true,
   "sideBar": true,
   "skip_h1_title": false,
   "title_cell": "Table of Contents",
   "title_sidebar": "Contents",
   "toc_cell": false,
   "toc_position": {},
   "toc_section_display": true,
   "toc_window_display": false
  }
 },
 "nbformat": 4,
 "nbformat_minor": 4
}
